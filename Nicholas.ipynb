{
 "cells": [
  {
   "cell_type": "code",
   "execution_count": 2,
   "metadata": {},
   "outputs": [],
   "source": [
    "import pandas as pd\n",
    "import numpy as np\n",
    "import warnings\n",
    "warnings.filterwarnings('ignore')"
   ]
  },
  {
   "cell_type": "code",
   "execution_count": 3,
   "metadata": {},
   "outputs": [],
   "source": [
    "# Load all data sets\n",
    "\n",
    "app_train = pd.read_csv('application_train.csv')\n",
    "app_test = pd.read_csv('application_test.csv')"
   ]
  },
  {
   "cell_type": "code",
   "execution_count": 4,
   "metadata": {},
   "outputs": [],
   "source": [
    "# Function to calculate missing values by column\n",
    "\n",
    "def missing_values_table(df):\n",
    "        # Total missing values\n",
    "        mis_val = df.isnull().sum()\n",
    "        \n",
    "        # Percentage of missing values\n",
    "        mis_val_percent = 100 * df.isnull().sum() / len(df)\n",
    "        \n",
    "        # Make a table with the results\n",
    "        mis_val_table = pd.concat([mis_val, mis_val_percent], axis=1)\n",
    "        \n",
    "        # Rename the columns\n",
    "        mis_val_table_ren_columns = mis_val_table.rename(\n",
    "        columns = {0 : 'Missing Values', 1 : '% of Total Values'})\n",
    "        \n",
    "        # Sort the table by percentage of missing descending\n",
    "        mis_val_table_ren_columns = mis_val_table_ren_columns[\n",
    "            mis_val_table_ren_columns.iloc[:,1] != 0].sort_values(\n",
    "        '% of Total Values', ascending=False).round(1)\n",
    "        \n",
    "        # Print some summary information\n",
    "        print (\"Your selected dataframe has \" + str(df.shape[1]) + \" columns.\\n\"      \n",
    "            \"There are \" + str(mis_val_table_ren_columns.shape[0]) +\n",
    "              \" columns that have missing values.\")\n",
    "        \n",
    "        # Return the dataframe with missing information\n",
    "        return mis_val_table_ren_columns"
   ]
  },
  {
   "cell_type": "code",
   "execution_count": 5,
   "metadata": {},
   "outputs": [
    {
     "name": "stdout",
     "output_type": "stream",
     "text": [
      "Your selected dataframe has 122 columns.\n",
      "There are 67 columns that have missing values.\n"
     ]
    },
    {
     "data": {
      "text/html": [
       "<div>\n",
       "<style scoped>\n",
       "    .dataframe tbody tr th:only-of-type {\n",
       "        vertical-align: middle;\n",
       "    }\n",
       "\n",
       "    .dataframe tbody tr th {\n",
       "        vertical-align: top;\n",
       "    }\n",
       "\n",
       "    .dataframe thead th {\n",
       "        text-align: right;\n",
       "    }\n",
       "</style>\n",
       "<table border=\"1\" class=\"dataframe\">\n",
       "  <thead>\n",
       "    <tr style=\"text-align: right;\">\n",
       "      <th></th>\n",
       "      <th>Missing Values</th>\n",
       "      <th>% of Total Values</th>\n",
       "    </tr>\n",
       "  </thead>\n",
       "  <tbody>\n",
       "    <tr>\n",
       "      <th>COMMONAREA_MEDI</th>\n",
       "      <td>214865</td>\n",
       "      <td>69.9</td>\n",
       "    </tr>\n",
       "    <tr>\n",
       "      <th>COMMONAREA_AVG</th>\n",
       "      <td>214865</td>\n",
       "      <td>69.9</td>\n",
       "    </tr>\n",
       "    <tr>\n",
       "      <th>COMMONAREA_MODE</th>\n",
       "      <td>214865</td>\n",
       "      <td>69.9</td>\n",
       "    </tr>\n",
       "    <tr>\n",
       "      <th>NONLIVINGAPARTMENTS_MEDI</th>\n",
       "      <td>213514</td>\n",
       "      <td>69.4</td>\n",
       "    </tr>\n",
       "    <tr>\n",
       "      <th>NONLIVINGAPARTMENTS_MODE</th>\n",
       "      <td>213514</td>\n",
       "      <td>69.4</td>\n",
       "    </tr>\n",
       "    <tr>\n",
       "      <th>NONLIVINGAPARTMENTS_AVG</th>\n",
       "      <td>213514</td>\n",
       "      <td>69.4</td>\n",
       "    </tr>\n",
       "    <tr>\n",
       "      <th>FONDKAPREMONT_MODE</th>\n",
       "      <td>210295</td>\n",
       "      <td>68.4</td>\n",
       "    </tr>\n",
       "    <tr>\n",
       "      <th>LIVINGAPARTMENTS_MODE</th>\n",
       "      <td>210199</td>\n",
       "      <td>68.4</td>\n",
       "    </tr>\n",
       "    <tr>\n",
       "      <th>LIVINGAPARTMENTS_MEDI</th>\n",
       "      <td>210199</td>\n",
       "      <td>68.4</td>\n",
       "    </tr>\n",
       "    <tr>\n",
       "      <th>LIVINGAPARTMENTS_AVG</th>\n",
       "      <td>210199</td>\n",
       "      <td>68.4</td>\n",
       "    </tr>\n",
       "    <tr>\n",
       "      <th>FLOORSMIN_MODE</th>\n",
       "      <td>208642</td>\n",
       "      <td>67.8</td>\n",
       "    </tr>\n",
       "    <tr>\n",
       "      <th>FLOORSMIN_MEDI</th>\n",
       "      <td>208642</td>\n",
       "      <td>67.8</td>\n",
       "    </tr>\n",
       "    <tr>\n",
       "      <th>FLOORSMIN_AVG</th>\n",
       "      <td>208642</td>\n",
       "      <td>67.8</td>\n",
       "    </tr>\n",
       "    <tr>\n",
       "      <th>YEARS_BUILD_MODE</th>\n",
       "      <td>204488</td>\n",
       "      <td>66.5</td>\n",
       "    </tr>\n",
       "    <tr>\n",
       "      <th>YEARS_BUILD_MEDI</th>\n",
       "      <td>204488</td>\n",
       "      <td>66.5</td>\n",
       "    </tr>\n",
       "    <tr>\n",
       "      <th>YEARS_BUILD_AVG</th>\n",
       "      <td>204488</td>\n",
       "      <td>66.5</td>\n",
       "    </tr>\n",
       "    <tr>\n",
       "      <th>OWN_CAR_AGE</th>\n",
       "      <td>202929</td>\n",
       "      <td>66.0</td>\n",
       "    </tr>\n",
       "    <tr>\n",
       "      <th>LANDAREA_AVG</th>\n",
       "      <td>182590</td>\n",
       "      <td>59.4</td>\n",
       "    </tr>\n",
       "    <tr>\n",
       "      <th>LANDAREA_MEDI</th>\n",
       "      <td>182590</td>\n",
       "      <td>59.4</td>\n",
       "    </tr>\n",
       "    <tr>\n",
       "      <th>LANDAREA_MODE</th>\n",
       "      <td>182590</td>\n",
       "      <td>59.4</td>\n",
       "    </tr>\n",
       "  </tbody>\n",
       "</table>\n",
       "</div>"
      ],
      "text/plain": [
       "                          Missing Values  % of Total Values\n",
       "COMMONAREA_MEDI                   214865               69.9\n",
       "COMMONAREA_AVG                    214865               69.9\n",
       "COMMONAREA_MODE                   214865               69.9\n",
       "NONLIVINGAPARTMENTS_MEDI          213514               69.4\n",
       "NONLIVINGAPARTMENTS_MODE          213514               69.4\n",
       "NONLIVINGAPARTMENTS_AVG           213514               69.4\n",
       "FONDKAPREMONT_MODE                210295               68.4\n",
       "LIVINGAPARTMENTS_MODE             210199               68.4\n",
       "LIVINGAPARTMENTS_MEDI             210199               68.4\n",
       "LIVINGAPARTMENTS_AVG              210199               68.4\n",
       "FLOORSMIN_MODE                    208642               67.8\n",
       "FLOORSMIN_MEDI                    208642               67.8\n",
       "FLOORSMIN_AVG                     208642               67.8\n",
       "YEARS_BUILD_MODE                  204488               66.5\n",
       "YEARS_BUILD_MEDI                  204488               66.5\n",
       "YEARS_BUILD_AVG                   204488               66.5\n",
       "OWN_CAR_AGE                       202929               66.0\n",
       "LANDAREA_AVG                      182590               59.4\n",
       "LANDAREA_MEDI                     182590               59.4\n",
       "LANDAREA_MODE                     182590               59.4"
      ]
     },
     "execution_count": 5,
     "metadata": {},
     "output_type": "execute_result"
    }
   ],
   "source": [
    "missing_values = missing_values_table(app_train)\n",
    "missing_values.head(20)"
   ]
  },
  {
   "cell_type": "code",
   "execution_count": 6,
   "metadata": {},
   "outputs": [
    {
     "data": {
      "text/plain": [
       "0    282686\n",
       "1     24825\n",
       "Name: TARGET, dtype: int64"
      ]
     },
     "execution_count": 6,
     "metadata": {},
     "output_type": "execute_result"
    }
   ],
   "source": [
    "app_train['TARGET'].value_counts()"
   ]
  },
  {
   "cell_type": "code",
   "execution_count": 7,
   "metadata": {},
   "outputs": [
    {
     "data": {
      "text/plain": [
       "float64    65\n",
       "int64      41\n",
       "object     16\n",
       "dtype: int64"
      ]
     },
     "execution_count": 7,
     "metadata": {},
     "output_type": "execute_result"
    }
   ],
   "source": [
    "app_train.dtypes.value_counts()"
   ]
  },
  {
   "cell_type": "code",
   "execution_count": 8,
   "metadata": {},
   "outputs": [
    {
     "data": {
      "text/plain": [
       "NAME_CONTRACT_TYPE             2\n",
       "CODE_GENDER                    3\n",
       "FLAG_OWN_CAR                   2\n",
       "FLAG_OWN_REALTY                2\n",
       "NAME_TYPE_SUITE                7\n",
       "NAME_INCOME_TYPE               8\n",
       "NAME_EDUCATION_TYPE            5\n",
       "NAME_FAMILY_STATUS             6\n",
       "NAME_HOUSING_TYPE              6\n",
       "OCCUPATION_TYPE               18\n",
       "WEEKDAY_APPR_PROCESS_START     7\n",
       "ORGANIZATION_TYPE             58\n",
       "FONDKAPREMONT_MODE             4\n",
       "HOUSETYPE_MODE                 3\n",
       "WALLSMATERIAL_MODE             7\n",
       "EMERGENCYSTATE_MODE            2\n",
       "dtype: int64"
      ]
     },
     "execution_count": 8,
     "metadata": {},
     "output_type": "execute_result"
    }
   ],
   "source": [
    "app_train.select_dtypes('object').apply(pd.Series.nunique, axis = 0)"
   ]
  },
  {
   "cell_type": "code",
   "execution_count": 9,
   "metadata": {},
   "outputs": [],
   "source": [
    "# One Hot Encoding of Categorical Variables (with NaN values dealt with)\n",
    "\n",
    "categorical_columns = [col for col in app_train.columns if app_train[col].dtype == 'object']\n",
    "app_train = pd.get_dummies(app_train, columns= categorical_columns, dummy_na= True)\n",
    "\n",
    "categorical_columns2 = [col for col in app_test.columns if app_test[col].dtype == 'object']\n",
    "app_test = pd.get_dummies(app_test, columns= categorical_columns, dummy_na= True)"
   ]
  },
  {
   "cell_type": "code",
   "execution_count": 10,
   "metadata": {},
   "outputs": [],
   "source": [
    "# Replacement of numerical NaN values with mean\n",
    "\n",
    "columns = app_train.columns\n",
    "\n",
    "for i in columns:\n",
    "    current = app_train[i]\n",
    "    if type(current[0])==np.int64 or type(current[0])==np.float64:\n",
    "            if current.isnull().sum() != 0:\n",
    "                mean = np.mean(current)\n",
    "                app_train[i].replace({np.nan: mean}, inplace= True)"
   ]
  },
  {
   "cell_type": "code",
   "execution_count": 13,
   "metadata": {},
   "outputs": [],
   "source": [
    "columns2 = app_test.columns\n",
    "\n",
    "for i in columns2:\n",
    "    current = app_test[i]\n",
    "    if type(current[0])==np.int64 or type(current[0])==np.float64:\n",
    "            if current.isnull().sum() != 0:\n",
    "                mean = np.mean(current)\n",
    "                app_test[i].replace({np.nan: mean}, inplace= True)"
   ]
  },
  {
   "cell_type": "code",
   "execution_count": 14,
   "metadata": {},
   "outputs": [
    {
     "name": "stdout",
     "output_type": "stream",
     "text": [
      "(307511, 262)\n",
      "(48744, 258)\n"
     ]
    }
   ],
   "source": [
    "print(app_train.shape)\n",
    "print(app_test.shape)"
   ]
  },
  {
   "cell_type": "code",
   "execution_count": 15,
   "metadata": {},
   "outputs": [
    {
     "name": "stdout",
     "output_type": "stream",
     "text": [
      "Your selected dataframe has 262 columns.\n",
      "There are 0 columns that have missing values.\n"
     ]
    },
    {
     "data": {
      "text/html": [
       "<div>\n",
       "<style scoped>\n",
       "    .dataframe tbody tr th:only-of-type {\n",
       "        vertical-align: middle;\n",
       "    }\n",
       "\n",
       "    .dataframe tbody tr th {\n",
       "        vertical-align: top;\n",
       "    }\n",
       "\n",
       "    .dataframe thead th {\n",
       "        text-align: right;\n",
       "    }\n",
       "</style>\n",
       "<table border=\"1\" class=\"dataframe\">\n",
       "  <thead>\n",
       "    <tr style=\"text-align: right;\">\n",
       "      <th></th>\n",
       "      <th>Missing Values</th>\n",
       "      <th>% of Total Values</th>\n",
       "    </tr>\n",
       "  </thead>\n",
       "  <tbody>\n",
       "  </tbody>\n",
       "</table>\n",
       "</div>"
      ],
      "text/plain": [
       "Empty DataFrame\n",
       "Columns: [Missing Values, % of Total Values]\n",
       "Index: []"
      ]
     },
     "execution_count": 15,
     "metadata": {},
     "output_type": "execute_result"
    }
   ],
   "source": [
    "missing_values = missing_values_table(app_train)\n",
    "missing_values.head(20)"
   ]
  },
  {
   "cell_type": "code",
   "execution_count": 16,
   "metadata": {},
   "outputs": [
    {
     "name": "stdout",
     "output_type": "stream",
     "text": [
      "Your selected dataframe has 258 columns.\n",
      "There are 0 columns that have missing values.\n"
     ]
    },
    {
     "data": {
      "text/html": [
       "<div>\n",
       "<style scoped>\n",
       "    .dataframe tbody tr th:only-of-type {\n",
       "        vertical-align: middle;\n",
       "    }\n",
       "\n",
       "    .dataframe tbody tr th {\n",
       "        vertical-align: top;\n",
       "    }\n",
       "\n",
       "    .dataframe thead th {\n",
       "        text-align: right;\n",
       "    }\n",
       "</style>\n",
       "<table border=\"1\" class=\"dataframe\">\n",
       "  <thead>\n",
       "    <tr style=\"text-align: right;\">\n",
       "      <th></th>\n",
       "      <th>Missing Values</th>\n",
       "      <th>% of Total Values</th>\n",
       "    </tr>\n",
       "  </thead>\n",
       "  <tbody>\n",
       "  </tbody>\n",
       "</table>\n",
       "</div>"
      ],
      "text/plain": [
       "Empty DataFrame\n",
       "Columns: [Missing Values, % of Total Values]\n",
       "Index: []"
      ]
     },
     "execution_count": 16,
     "metadata": {},
     "output_type": "execute_result"
    }
   ],
   "source": [
    "missing_values = missing_values_table(app_test)\n",
    "missing_values.head(20)"
   ]
  },
  {
   "cell_type": "code",
   "execution_count": 17,
   "metadata": {},
   "outputs": [],
   "source": [
    "# Feature Engineering of Training and Test Set\n",
    "\n",
    "app_train['YEARS_BUILD_CREDIT'] = app_train['AMT_CREDIT']/app_train['YEARS_BUILD_AVG']\n",
    "app_train['Annuity_Income'] = app_train['AMT_ANNUITY']/app_train['AMT_INCOME_TOTAL']\n",
    "app_train['Income_Cred'] = app_train['AMT_CREDIT']/app_train['AMT_INCOME_TOTAL']\n",
    "app_train['EMP_AGE'] = app_train['DAYS_EMPLOYED']/app_train['DAYS_BIRTH']\n",
    "app_train['Income_PP'] = app_train['AMT_INCOME_TOTAL']/app_train['CNT_FAM_MEMBERS']\n",
    "app_train['CHILDREN_RATIO'] = (1 + app_train['CNT_CHILDREN']) / app_train['CNT_FAM_MEMBERS']\n",
    "app_train['PAYMENTS'] = app_train['AMT_ANNUITY']/ app_train['AMT_CREDIT']\n",
    "app_train['NEW_CREDIT_TO_GOODS_RATIO'] = app_train['AMT_CREDIT'] / app_train['AMT_GOODS_PRICE']\n",
    "app_train['GOODS_INCOME'] =  app_train['AMT_GOODS_PRICE']/app_train['AMT_INCOME_TOTAL']\n",
    "app_train['Ext_source_mult'] = app_train['EXT_SOURCE_1'] * app_train['EXT_SOURCE_2'] * app_train['EXT_SOURCE_3']\n",
    "app_train['Ext_SOURCE_MEAN'] = app_train[['EXT_SOURCE_1', 'EXT_SOURCE_2', 'EXT_SOURCE_3']].mean(axis = 1)\n",
    "app_train['Ext_SOURCE_SD'] = app_train[['EXT_SOURCE_1', 'EXT_SOURCE_2', 'EXT_SOURCE_3']].std(axis = 1)\n",
    "\n",
    "app_test['YEARS_BUILD_CREDIT'] = app_test['AMT_CREDIT']/app_test['YEARS_BUILD_AVG']\n",
    "app_test['Annuity_Income'] = app_test['AMT_ANNUITY']/app_test['AMT_INCOME_TOTAL']\n",
    "app_test['Income_Cred'] = app_test['AMT_CREDIT']/app_test['AMT_INCOME_TOTAL']\n",
    "app_test['EMP_AGE'] = app_test['DAYS_EMPLOYED']/app_test['DAYS_BIRTH']\n",
    "app_test['Income_PP'] = app_test['AMT_INCOME_TOTAL']/app_test['CNT_FAM_MEMBERS']\n",
    "app_test['CHILDREN_RATIO'] = (1 + app_test['CNT_CHILDREN']) / app_test['CNT_FAM_MEMBERS']\n",
    "app_test['PAYMENTS'] = app_test['AMT_ANNUITY']/ app_test['AMT_CREDIT']\n",
    "app_test['NEW_CREDIT_TO_GOODS_RATIO'] = app_test['AMT_CREDIT'] / app_test['AMT_GOODS_PRICE']\n",
    "app_test['GOODS_INCOME'] =  app_test['AMT_GOODS_PRICE']/app_test['AMT_INCOME_TOTAL']\n",
    "app_test['Ext_source_mult'] = app_test['EXT_SOURCE_1'] * app_test['EXT_SOURCE_2'] * app_test['EXT_SOURCE_3']\n",
    "app_test['Ext_SOURCE_MEAN'] = app_test[['EXT_SOURCE_1', 'EXT_SOURCE_2', 'EXT_SOURCE_3']].mean(axis = 1)\n",
    "app_test['Ext_SOURCE_SD'] = app_test[['EXT_SOURCE_1', 'EXT_SOURCE_2', 'EXT_SOURCE_3']].std(axis = 1)"
   ]
  },
  {
   "cell_type": "code",
   "execution_count": 18,
   "metadata": {},
   "outputs": [
    {
     "name": "stdout",
     "output_type": "stream",
     "text": [
      "Training Features shape:  (307511, 271)\n",
      "Testing Features shape:  (48744, 270)\n"
     ]
    }
   ],
   "source": [
    "# Aligning Training and Test Data\n",
    "\n",
    "train_labels = app_train['TARGET']\n",
    "\n",
    "app_train, app_test = app_train.align(app_test, join = 'inner', axis = 1)\n",
    "\n",
    "app_train['TARGET'] = train_labels\n",
    "\n",
    "print('Training Features shape: ', app_train.shape)\n",
    "print('Testing Features shape: ', app_test.shape)"
   ]
  },
  {
   "cell_type": "code",
   "execution_count": 19,
   "metadata": {},
   "outputs": [
    {
     "name": "stdout",
     "output_type": "stream",
     "text": [
      "(307511, 271)\n",
      "(48744, 270)\n"
     ]
    }
   ],
   "source": [
    "print(app_train.shape)\n",
    "print(app_test.shape)"
   ]
  },
  {
   "cell_type": "code",
   "execution_count": 20,
   "metadata": {},
   "outputs": [
    {
     "name": "stdout",
     "output_type": "stream",
     "text": [
      "   SK_ID_CURR  CNT_CHILDREN  AMT_INCOME_TOTAL  AMT_CREDIT  AMT_ANNUITY  \\\n",
      "0      100002             0          202500.0    406597.5      24700.5   \n",
      "1      100003             0          270000.0   1293502.5      35698.5   \n",
      "2      100004             0           67500.0    135000.0       6750.0   \n",
      "3      100006             0          135000.0    312682.5      29686.5   \n",
      "4      100007             0          121500.0    513000.0      21865.5   \n",
      "\n",
      "   AMT_GOODS_PRICE  REGION_POPULATION_RELATIVE  DAYS_BIRTH  DAYS_EMPLOYED  \\\n",
      "0         351000.0                    0.018801       -9461           -637   \n",
      "1        1129500.0                    0.003541      -16765          -1188   \n",
      "2         135000.0                    0.010032      -19046           -225   \n",
      "3         297000.0                    0.008019      -19005          -3039   \n",
      "4         513000.0                    0.028663      -19932          -3038   \n",
      "\n",
      "   DAYS_REGISTRATION   ...     EMP_AGE  Income_PP  CHILDREN_RATIO  PAYMENTS  \\\n",
      "0            -3648.0   ...    0.067329   202500.0             1.0  0.060749   \n",
      "1            -1186.0   ...    0.070862   135000.0             0.5  0.027598   \n",
      "2            -4260.0   ...    0.011814    67500.0             1.0  0.050000   \n",
      "3            -9833.0   ...    0.159905    67500.0             0.5  0.094941   \n",
      "4            -4311.0   ...    0.152418   121500.0             1.0  0.042623   \n",
      "\n",
      "   NEW_CREDIT_TO_GOODS_RATIO  GOODS_INCOME  Ext_source_mult  Ext_SOURCE_MEAN  \\\n",
      "0                   1.158397      1.733333         0.003043         0.161787   \n",
      "1                   1.145199      4.183333         0.098944         0.481455   \n",
      "2                   1.000000      2.000000         0.203651         0.595870   \n",
      "3                   1.052803      2.200000         0.166848         0.554475   \n",
      "4                   1.000000      4.222222         0.082787         0.445240   \n",
      "\n",
      "   Ext_SOURCE_SD  TARGET  \n",
      "0       0.092026       1  \n",
      "1       0.157560       0  \n",
      "2       0.118867       0  \n",
      "3       0.083224       0  \n",
      "4       0.106180       0  \n",
      "\n",
      "[5 rows x 271 columns]\n"
     ]
    }
   ],
   "source": [
    "print(app_train.head())"
   ]
  },
  {
   "cell_type": "code",
   "execution_count": 21,
   "metadata": {},
   "outputs": [],
   "source": [
    "X_train = app_train.iloc[:,:270]\n",
    "y_train = app_train.iloc[:,270]"
   ]
  },
  {
   "cell_type": "code",
   "execution_count": 22,
   "metadata": {},
   "outputs": [
    {
     "name": "stdout",
     "output_type": "stream",
     "text": [
      "0    1\n",
      "1    0\n",
      "2    0\n",
      "3    0\n",
      "4    0\n",
      "Name: TARGET, dtype: int64\n"
     ]
    }
   ],
   "source": [
    "print(y_train.head())"
   ]
  },
  {
   "cell_type": "code",
   "execution_count": 23,
   "metadata": {},
   "outputs": [
    {
     "name": "stdout",
     "output_type": "stream",
     "text": [
      "   SK_ID_CURR  CNT_CHILDREN  AMT_INCOME_TOTAL  AMT_CREDIT  AMT_ANNUITY  \\\n",
      "0      100001             0          135000.0    568800.0      20560.5   \n",
      "1      100005             0           99000.0    222768.0      17370.0   \n",
      "2      100013             0          202500.0    663264.0      69777.0   \n",
      "3      100028             2          315000.0   1575000.0      49018.5   \n",
      "4      100038             1          180000.0    625500.0      32067.0   \n",
      "\n",
      "   AMT_GOODS_PRICE  REGION_POPULATION_RELATIVE  DAYS_BIRTH  DAYS_EMPLOYED  \\\n",
      "0         450000.0                    0.018850      -19241          -2329   \n",
      "1         180000.0                    0.035792      -18064          -4469   \n",
      "2         630000.0                    0.019101      -20038          -4458   \n",
      "3        1575000.0                    0.026392      -13976          -1866   \n",
      "4         625500.0                    0.010032      -13040          -2191   \n",
      "\n",
      "   DAYS_REGISTRATION      ...        Income_Cred   EMP_AGE  Income_PP  \\\n",
      "0            -5170.0      ...           4.213333  0.121044    67500.0   \n",
      "1            -9118.0      ...           2.250182  0.247398    49500.0   \n",
      "2            -2175.0      ...           3.275378  0.222477   101250.0   \n",
      "3            -2000.0      ...           5.000000  0.133515    78750.0   \n",
      "4            -4000.0      ...           3.475000  0.168021    60000.0   \n",
      "\n",
      "   CHILDREN_RATIO  PAYMENTS  NEW_CREDIT_TO_GOODS_RATIO  GOODS_INCOME  \\\n",
      "0        0.500000  0.036147                     1.2640      3.333333   \n",
      "1        0.500000  0.077973                     1.2376      1.818182   \n",
      "2        0.500000  0.105202                     1.0528      3.111111   \n",
      "3        0.750000  0.031123                     1.0000      5.000000   \n",
      "4        0.666667  0.051266                     1.0000      3.475000   \n",
      "\n",
      "   Ext_source_mult  Ext_SOURCE_MEAN  Ext_SOURCE_SD  \n",
      "0         0.094803         0.567263       0.353601  \n",
      "1         0.071345         0.429869       0.136694  \n",
      "2         0.214286         0.603986       0.099489  \n",
      "3         0.164177         0.549372       0.055432  \n",
      "4         0.043034         0.375979       0.155075  \n",
      "\n",
      "[5 rows x 270 columns]\n"
     ]
    }
   ],
   "source": [
    "X_test = app_test.iloc[:,:]\n",
    "print(X_test.head())"
   ]
  },
  {
   "cell_type": "code",
   "execution_count": 24,
   "metadata": {},
   "outputs": [],
   "source": [
    "from xgboost import XGBRegressor\n",
    "from xgboost import XGBClassifier\n",
    "from numpy import loadtxt\n",
    "from sklearn.metrics import accuracy_score\n",
    "from sklearn.model_selection import train_test_split"
   ]
  },
  {
   "cell_type": "code",
   "execution_count": 25,
   "metadata": {},
   "outputs": [],
   "source": [
    "clf = XGBClassifier(learning_rate =0.02,\n",
    "n_estimators=1000,\n",
    "max_depth=3, \n",
    "min_child_weight=4,\n",
    "subsample=0.8, \n",
    "colsample_bytree=0.8,\n",
    "objective= 'binary:logistic', \n",
    "nthread=4,\n",
    "scale_pos_weight=2, \n",
    "seed=27)"
   ]
  },
  {
   "cell_type": "code",
   "execution_count": 26,
   "metadata": {},
   "outputs": [
    {
     "data": {
      "text/plain": [
       "XGBClassifier(base_score=0.5, booster='gbtree', colsample_bylevel=1,\n",
       "       colsample_bytree=0.8, gamma=0, learning_rate=0.02, max_delta_step=0,\n",
       "       max_depth=3, min_child_weight=4, missing=None, n_estimators=1000,\n",
       "       n_jobs=1, nthread=4, objective='binary:logistic', random_state=0,\n",
       "       reg_alpha=0, reg_lambda=1, scale_pos_weight=2, seed=27, silent=True,\n",
       "       subsample=0.8)"
      ]
     },
     "execution_count": 26,
     "metadata": {},
     "output_type": "execute_result"
    }
   ],
   "source": [
    "clf.fit(X_train,y_train)"
   ]
  },
  {
   "cell_type": "code",
   "execution_count": 27,
   "metadata": {},
   "outputs": [
    {
     "name": "stdout",
     "output_type": "stream",
     "text": [
      "[[0.93283737 0.06716264]\n",
      " [0.7574953  0.24250475]\n",
      " [0.9708819  0.02911815]\n",
      " ...\n",
      " [0.95859337 0.04140661]\n",
      " [0.8960123  0.1039877 ]\n",
      " [0.67198455 0.32801548]]\n"
     ]
    }
   ],
   "source": [
    "print(clf.predict_proba(X_test))"
   ]
  },
  {
   "cell_type": "code",
   "execution_count": 28,
   "metadata": {},
   "outputs": [],
   "source": [
    "predictions = clf.predict_proba(X_test)[:, 1]"
   ]
  },
  {
   "cell_type": "code",
   "execution_count": 29,
   "metadata": {},
   "outputs": [],
   "source": [
    "submit = app_test[['SK_ID_CURR']]\n",
    "submit['TARGET'] = predictions"
   ]
  },
  {
   "cell_type": "code",
   "execution_count": 30,
   "metadata": {},
   "outputs": [
    {
     "name": "stdout",
     "output_type": "stream",
     "text": [
      "       SK_ID_CURR    TARGET\n",
      "0          100001  0.067163\n",
      "1          100005  0.242505\n",
      "2          100013  0.029118\n",
      "3          100028  0.067662\n",
      "4          100038  0.234337\n",
      "5          100042  0.049934\n",
      "6          100057  0.034575\n",
      "7          100065  0.117648\n",
      "8          100066  0.037582\n",
      "9          100067  0.216538\n",
      "10         100074  0.119073\n",
      "11         100090  0.121634\n",
      "12         100091  0.383659\n",
      "13         100092  0.188466\n",
      "14         100106  0.098042\n",
      "15         100107  0.249998\n",
      "16         100109  0.113190\n",
      "17         100117  0.062757\n",
      "18         100128  0.173958\n",
      "19         100141  0.033599\n",
      "20         100150  0.037508\n",
      "21         100168  0.029148\n",
      "22         100169  0.056065\n",
      "23         100170  0.131509\n",
      "24         100171  0.087585\n",
      "25         100172  0.138239\n",
      "26         100184  0.156711\n",
      "27         100187  0.158317\n",
      "28         100212  0.103651\n",
      "29         100222  0.100236\n",
      "...           ...       ...\n",
      "48714      455963  0.076825\n",
      "48715      455965  0.037959\n",
      "48716      456007  0.453695\n",
      "48717      456008  0.040301\n",
      "48718      456009  0.088662\n",
      "48719      456010  0.137910\n",
      "48720      456011  0.074688\n",
      "48721      456013  0.239380\n",
      "48722      456028  0.259914\n",
      "48723      456058  0.237534\n",
      "48724      456111  0.279195\n",
      "48725      456114  0.131704\n",
      "48726      456115  0.104728\n",
      "48727      456116  0.027054\n",
      "48728      456119  0.041325\n",
      "48729      456120  0.087916\n",
      "48730      456122  0.195396\n",
      "48731      456123  0.047403\n",
      "48732      456166  0.210236\n",
      "48733      456167  0.089370\n",
      "48734      456168  0.102396\n",
      "48735      456169  0.116624\n",
      "48736      456170  0.023615\n",
      "48737      456189  0.249471\n",
      "48738      456202  0.314640\n",
      "48739      456221  0.055602\n",
      "48740      456222  0.113173\n",
      "48741      456223  0.041407\n",
      "48742      456224  0.103988\n",
      "48743      456250  0.328015\n",
      "\n",
      "[48744 rows x 2 columns]\n"
     ]
    }
   ],
   "source": [
    "print(submit)"
   ]
  },
  {
   "cell_type": "code",
   "execution_count": 31,
   "metadata": {},
   "outputs": [],
   "source": [
    "submit.to_csv('Kaggle_Nicholas_SubmissionLATEST', index = False)"
   ]
  }
 ],
 "metadata": {
  "kernelspec": {
   "display_name": "Python 3",
   "language": "python",
   "name": "python3"
  }
 },
 "nbformat": 4,
 "nbformat_minor": 2
}
